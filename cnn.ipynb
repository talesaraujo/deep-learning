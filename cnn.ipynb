{
  "nbformat": 4,
  "nbformat_minor": 0,
  "metadata": {
    "colab": {
      "name": "cnn.ipynb",
      "version": "0.3.2",
      "provenance": [],
      "collapsed_sections": []
    },
    "kernelspec": {
      "name": "python3",
      "display_name": "Python 3"
    },
    "accelerator": "GPU"
  },
  "cells": [
    {
      "cell_type": "markdown",
      "metadata": {
        "id": "dsaI2Sn5v8Qn",
        "colab_type": "text"
      },
      "source": [
        "# **Classifying cats and dogs using deep learning**"
      ]
    },
    {
      "cell_type": "markdown",
      "metadata": {
        "id": "FFXMvgsVr6uT",
        "colab_type": "text"
      },
      "source": [
        "### Clear session"
      ]
    },
    {
      "cell_type": "code",
      "metadata": {
        "id": "X0I81QFhr9_q",
        "colab_type": "code",
        "colab": {
          "base_uri": "https://localhost:8080/",
          "height": 289
        },
        "outputId": "f98ffbaa-4a46-45c1-9bee-d6f1924f7c28"
      },
      "source": [
        "!ls -la\n",
        "\n",
        "!rm kagglecatsanddogs_3367a.zip* ngrok-stable-linux-amd64.zip* *.pickle readme[1].txt 'MSR-LA - 3467.docx'\n",
        "!rm -rf ngrok/ \n",
        "!rm -rf PetImages/ \n",
        "!rm -rf logs/\n",
        "\n",
        "\n",
        "!ls -la"
      ],
      "execution_count": 5,
      "outputs": [
        {
          "output_type": "stream",
          "text": [
            "total 34516\n",
            "drwxr-xr-x 1 root root     4096 Jun  3 14:16 .\n",
            "drwxr-xr-x 1 root root     4096 Jun  3 12:49 ..\n",
            "drwxr-xr-x 1 root root     4096 May 30 16:09 .config\n",
            "-rwxr-xr-x 1 root root 35326615 May 19 10:07 ngrok\n",
            "drwxr-xr-x 1 root root     4096 May 24 16:08 sample_data\n",
            "rm: cannot remove 'kagglecatsanddogs_3367a.zip*': No such file or directory\n",
            "rm: cannot remove 'ngrok-stable-linux-amd64.zip*': No such file or directory\n",
            "rm: cannot remove '*.pickle': No such file or directory\n",
            "rm: cannot remove 'readme[1].txt': No such file or directory\n",
            "rm: cannot remove 'MSR-LA - 3467.docx': No such file or directory\n",
            "total 16\n",
            "drwxr-xr-x 1 root root 4096 Jun  3 14:17 .\n",
            "drwxr-xr-x 1 root root 4096 Jun  3 12:49 ..\n",
            "drwxr-xr-x 1 root root 4096 May 30 16:09 .config\n",
            "drwxr-xr-x 1 root root 4096 May 24 16:08 sample_data\n"
          ],
          "name": "stdout"
        }
      ]
    },
    {
      "cell_type": "markdown",
      "metadata": {
        "id": "SV4NKdT8wHag",
        "colab_type": "text"
      },
      "source": [
        "## Data preparation"
      ]
    },
    {
      "cell_type": "code",
      "metadata": {
        "id": "M9so5MussVU7",
        "colab_type": "code",
        "outputId": "22983d33-cf0a-42d5-bf75-cf656af20cde",
        "colab": {
          "base_uri": "https://localhost:8080/",
          "height": 391
        }
      },
      "source": [
        "!wget https://download.microsoft.com/download/3/E/1/3E1C3F21-ECDB-4869-8368-6DEBA77B919F/kagglecatsanddogs_3367a.zip\n",
        "!wget https://bin.equinox.io/c/4VmDzA7iaHb/ngrok-stable-linux-amd64.zip"
      ],
      "execution_count": 7,
      "outputs": [
        {
          "output_type": "stream",
          "text": [
            "--2019-06-03 14:18:10--  https://download.microsoft.com/download/3/E/1/3E1C3F21-ECDB-4869-8368-6DEBA77B919F/kagglecatsanddogs_3367a.zip\n",
            "Resolving download.microsoft.com (download.microsoft.com)... 184.28.88.168, 2600:1408:8400:385::e59, 2600:1408:8400:3a9::e59\n",
            "Connecting to download.microsoft.com (download.microsoft.com)|184.28.88.168|:443... connected.\n",
            "HTTP request sent, awaiting response... 200 OK\n",
            "Length: 824894548 (787M) [application/octet-stream]\n",
            "Saving to: ‘kagglecatsanddogs_3367a.zip’\n",
            "\n",
            "kagglecatsanddogs_3 100%[===================>] 786.68M   106MB/s    in 6.5s    \n",
            "\n",
            "2019-06-03 14:18:17 (122 MB/s) - ‘kagglecatsanddogs_3367a.zip’ saved [824894548/824894548]\n",
            "\n",
            "--2019-06-03 14:18:18--  https://bin.equinox.io/c/4VmDzA7iaHb/ngrok-stable-linux-amd64.zip\n",
            "Resolving bin.equinox.io (bin.equinox.io)... 52.202.60.111, 52.207.111.186, 3.209.102.29, ...\n",
            "Connecting to bin.equinox.io (bin.equinox.io)|52.202.60.111|:443... connected.\n",
            "HTTP request sent, awaiting response... 200 OK\n",
            "Length: 16648024 (16M) [application/octet-stream]\n",
            "Saving to: ‘ngrok-stable-linux-amd64.zip’\n",
            "\n",
            "ngrok-stable-linux- 100%[===================>]  15.88M  43.5MB/s    in 0.4s    \n",
            "\n",
            "2019-06-03 14:18:18 (43.5 MB/s) - ‘ngrok-stable-linux-amd64.zip’ saved [16648024/16648024]\n",
            "\n"
          ],
          "name": "stdout"
        }
      ]
    },
    {
      "cell_type": "code",
      "metadata": {
        "id": "T2kbz-JdJEaH",
        "colab_type": "code",
        "colab": {}
      },
      "source": [
        "!unzip kagglecatsanddogs_3367a.zip\n",
        "!unzip ngrok-stable-linux-amd64.zip"
      ],
      "execution_count": 0,
      "outputs": []
    },
    {
      "cell_type": "code",
      "metadata": {
        "id": "2klcq5j9MkbD",
        "colab_type": "code",
        "outputId": "9a8ce64d-38c5-46cc-8751-bcf6de39b588",
        "colab": {
          "base_uri": "https://localhost:8080/",
          "height": 204
        }
      },
      "source": [
        "!ls -la"
      ],
      "execution_count": 9,
      "outputs": [
        {
          "output_type": "stream",
          "text": [
            "total 856388\n",
            "drwxr-xr-x 1 root root      4096 Jun  3 14:18  .\n",
            "drwxr-xr-x 1 root root      4096 Jun  3 12:49  ..\n",
            "drwxr-xr-x 1 root root      4096 May 30 16:09  .config\n",
            "-rw-r--r-- 1 root root 824894548 Oct 13  2018  kagglecatsanddogs_3367a.zip\n",
            "-rw-r--r-- 1 root root     35545 Feb 10  2017 'MSR-LA - 3467.docx'\n",
            "-rwxr-xr-x 1 root root  35326615 May 19 10:07  ngrok\n",
            "-rw-r--r-- 1 root root  16648024 Jun  3 14:18  ngrok-stable-linux-amd64.zip\n",
            "drwxr-xr-x 4 root root      4096 Jun  3 14:18  PetImages\n",
            "-rw-r--r-- 1 root root       104 Feb 10  2017 'readme[1].txt'\n",
            "drwxr-xr-x 1 root root      4096 May 24 16:08  sample_data\n"
          ],
          "name": "stdout"
        }
      ]
    },
    {
      "cell_type": "markdown",
      "metadata": {
        "id": "4r4BCp_aNiw1",
        "colab_type": "text"
      },
      "source": [
        "## **Data Preprocessing**\n"
      ]
    },
    {
      "cell_type": "code",
      "metadata": {
        "id": "HWXM2bWdNGvT",
        "colab_type": "code",
        "outputId": "ada8b77a-9628-45f9-c9ef-c17e4768b498",
        "colab": {
          "base_uri": "https://localhost:8080/",
          "height": 269
        }
      },
      "source": [
        "import numpy as np\n",
        "import matplotlib.pyplot as plt\n",
        "import os, cv2\n",
        "\n",
        "DATADIR = '/content/PetImages'\n",
        "CATEGORIES = ['Dog', 'Cat']\n",
        "\n",
        "for category in CATEGORIES:\n",
        "    path = os.path.join(DATADIR, category)\n",
        "    for img in os.listdir(path):\n",
        "        img_array = cv2.imread(os.path.join(path, img), cv2.IMREAD_GRAYSCALE)\n",
        "        plt.imshow(img_array, cmap='gray')\n",
        "        plt.show()\n",
        "\n",
        "        break\n",
        "    break"
      ],
      "execution_count": 10,
      "outputs": [
        {
          "output_type": "display_data",
          "data": {
            "image/png": "[encoded data removed]",
            "text/plain": [
              "<Figure size 432x288 with 1 Axes>"
            ]
          },
          "metadata": {
            "tags": []
          }
        }
      ]
    },
    {
      "cell_type": "code",
      "metadata": {
        "id": "1tQ91mvtO9-_",
        "colab_type": "code",
        "outputId": "ac2d8668-a219-47aa-c517-385f6773c34e",
        "colab": {
          "base_uri": "https://localhost:8080/",
          "height": 34
        }
      },
      "source": [
        "# Since the images currently are in different shapes, we need to normalize them\n",
        "print(img_array.shape)"
      ],
      "execution_count": 11,
      "outputs": [
        {
          "output_type": "stream",
          "text": [
            "(300, 200)\n"
          ],
          "name": "stdout"
        }
      ]
    },
    {
      "cell_type": "code",
      "metadata": {
        "id": "EGhHTl0hPQfV",
        "colab_type": "code",
        "outputId": "59b9f2f3-1839-486c-c3ae-8229bb1c9bcb",
        "colab": {
          "base_uri": "https://localhost:8080/",
          "height": 269
        }
      },
      "source": [
        "IMG_SIZE = 50\n",
        "\n",
        "new_array = cv2.resize(img_array, (IMG_SIZE, IMG_SIZE))\n",
        "\n",
        "plt.imshow(new_array, cmap='gray')\n",
        "plt.show()"
      ],
      "execution_count": 12,
      "outputs": [
        {
          "output_type": "display_data",
          "data": {
            "image/png": "[encoded data removed]",
            "text/plain": [
              "<Figure size 432x288 with 1 Axes>"
            ]
          },
          "metadata": {
            "tags": []
          }
        }
      ]
    },
    {
      "cell_type": "code",
      "metadata": {
        "id": "Lo8M7CooQM5E",
        "colab_type": "code",
        "colab": {}
      },
      "source": [
        "training_data = []\n",
        "\n",
        "def create_training_data():\n",
        "    for category in CATEGORIES:\n",
        "        path = os.path.join(DATADIR, category)\n",
        "        class_num = CATEGORIES.index(category)\n",
        "        for img in os.listdir(path):\n",
        "            try:\n",
        "                img_array = cv2.imread(os.path.join(path, img), cv2.IMREAD_GRAYSCALE)\n",
        "                new_array = cv2.resize(img_array, (IMG_SIZE, IMG_SIZE))\n",
        "                training_data.append([new_array, class_num])\n",
        "            except Exception as e:\n",
        "                pass\n",
        "            \n",
        "create_training_data()"
      ],
      "execution_count": 0,
      "outputs": []
    },
    {
      "cell_type": "code",
      "metadata": {
        "id": "h5fefysoRg5v",
        "colab_type": "code",
        "outputId": "35b41e77-e472-4ca3-ddba-7f12a56ac13c",
        "colab": {
          "base_uri": "https://localhost:8080/",
          "height": 34
        }
      },
      "source": [
        "len(training_data)"
      ],
      "execution_count": 14,
      "outputs": [
        {
          "output_type": "execute_result",
          "data": {
            "text/plain": [
              "24946"
            ]
          },
          "metadata": {
            "tags": []
          },
          "execution_count": 14
        }
      ]
    },
    {
      "cell_type": "code",
      "metadata": {
        "id": "SmFHVmARRtD5",
        "colab_type": "code",
        "colab": {}
      },
      "source": [
        "import random\n",
        "\n",
        "random.shuffle(training_data)"
      ],
      "execution_count": 0,
      "outputs": []
    },
    {
      "cell_type": "code",
      "metadata": {
        "id": "seV9v_lNSbEL",
        "colab_type": "code",
        "outputId": "61a2154e-0ac9-44e8-cedc-7f7dab1a621a",
        "colab": {
          "base_uri": "https://localhost:8080/",
          "height": 187
        }
      },
      "source": [
        "for sample in training_data[:10]:\n",
        "    print(sample[1])"
      ],
      "execution_count": 16,
      "outputs": [
        {
          "output_type": "stream",
          "text": [
            "1\n",
            "0\n",
            "0\n",
            "1\n",
            "1\n",
            "0\n",
            "1\n",
            "1\n",
            "0\n",
            "0\n"
          ],
          "name": "stdout"
        }
      ]
    },
    {
      "cell_type": "code",
      "metadata": {
        "id": "rGLLbJUpSgQQ",
        "colab_type": "code",
        "colab": {}
      },
      "source": [
        "X = []\n",
        "y = []"
      ],
      "execution_count": 0,
      "outputs": []
    },
    {
      "cell_type": "code",
      "metadata": {
        "id": "xzlGKfy3S0rH",
        "colab_type": "code",
        "colab": {}
      },
      "source": [
        "for features, label in training_data:\n",
        "    X.append(features)\n",
        "    y.append(label)\n",
        "    \n",
        "    \n",
        "X = np.array(X).reshape(-1, IMG_SIZE, IMG_SIZE, 1)"
      ],
      "execution_count": 0,
      "outputs": []
    },
    {
      "cell_type": "code",
      "metadata": {
        "id": "oPh8tnZ8TwF1",
        "colab_type": "code",
        "colab": {}
      },
      "source": [
        "import pickle\n",
        "\n",
        "pickle_out = open(\"X.pickle\", \"wb\")\n",
        "pickle.dump(X, pickle_out)\n",
        "pickle_out.close()\n",
        "\n",
        "pickle_out = open(\"y.pickle\", \"wb\")\n",
        "pickle.dump(y, pickle_out)\n",
        "pickle_out.close()\n",
        "\n",
        "X = X/255.0"
      ],
      "execution_count": 0,
      "outputs": []
    },
    {
      "cell_type": "code",
      "metadata": {
        "id": "zgonBO7zqZvD",
        "colab_type": "code",
        "colab": {}
      },
      "source": [
        "!ls -la"
      ],
      "execution_count": 0,
      "outputs": []
    },
    {
      "cell_type": "markdown",
      "metadata": {
        "id": "3DuHglHTUcaR",
        "colab_type": "text"
      },
      "source": [
        "## Building a Convolutional Neural Network to classify our images"
      ]
    },
    {
      "cell_type": "code",
      "metadata": {
        "id": "lZEnZwxsUiOF",
        "colab_type": "code",
        "colab": {}
      },
      "source": [
        "import tensorflow as tf\n",
        "\n",
        "from tensorflow.keras.models import Sequential\n",
        "from tensorflow.keras.layers import Dense, Dropout, Activation, Flatten, Conv2D, MaxPooling2D\n",
        "from tensorflow.keras.callbacks import TensorBoard\n",
        "from tensorflow.keras.callbacks import EarlyStopping\n",
        "\n",
        "import time"
      ],
      "execution_count": 0,
      "outputs": []
    },
    {
      "cell_type": "code",
      "metadata": {
        "id": "EMrziiCSd_Wr",
        "colab_type": "code",
        "outputId": "0257c1ef-24f8-4210-b503-315b76a833ba",
        "colab": {
          "base_uri": "https://localhost:8080/",
          "height": 34
        }
      },
      "source": [
        "NAME = \"cats-vs-dogs-cnn-64x2-{}\".format((int(time.time())))\n",
        "\n",
        "LOG_DIR = 'logs/{}'.format(NAME)\n",
        "\n",
        "tensorboard_cb = TensorBoard(log_dir=LOG_DIR)\n",
        "\n",
        "# Using ngrok to perform a remote call to tensorboard\n",
        "get_ipython().system_raw(\n",
        "    'tensorboard --logdir {} --host 0.0.0.0 --port 6006 &'\n",
        "    .format(LOG_DIR)\n",
        ")\n",
        "\n",
        "get_ipython().system_raw('./ngrok http 6006 &')\n",
        "\n",
        "!curl -s http://localhost:4040/api/tunnels | python3 -c \\\n",
        "    \"import sys, json; print(json.load(sys.stdin)['tunnels'][0]['public_url'])\""
      ],
      "execution_count": 43,
      "outputs": [
        {
          "output_type": "stream",
          "text": [
            "https://6e28c230.ngrok.io\n"
          ],
          "name": "stdout"
        }
      ]
    },
    {
      "cell_type": "code",
      "metadata": {
        "id": "i2SUU8OSaQEu",
        "colab_type": "code",
        "colab": {}
      },
      "source": [
        "model = Sequential()\n",
        "\n",
        "model.add(Conv2D(filters=64, kernel_size=(3, 3), input_shape=X.shape[1:]))\n",
        "model.add(Activation(\"relu\"))\n",
        "model.add(MaxPooling2D(pool_size=(2, 2)))\n",
        "\n",
        "model.add(Conv2D(filters=64, kernel_size=(3, 3)))\n",
        "model.add(Activation(\"relu\"))\n",
        "model.add(MaxPooling2D(pool_size=(2, 2)))\n",
        "\n",
        "model.add(Flatten()) # This converts our 3D feature maps to 1D feature vectors\n",
        "\n",
        "model.add(Dense(64))\n",
        "model.add(Activation('relu'))\n",
        "\n",
        "model.add(Dense(1))\n",
        "model.add(Activation('sigmoid'))\n",
        "\n",
        "model.compile(loss='binary_crossentropy',\n",
        "              optimizer='adam',\n",
        "              metrics=['accuracy'])"
      ],
      "execution_count": 0,
      "outputs": []
    },
    {
      "cell_type": "markdown",
      "metadata": {
        "id": "ALGUxdUe08Dk",
        "colab_type": "text"
      },
      "source": [
        "## Training step"
      ]
    },
    {
      "cell_type": "code",
      "metadata": {
        "id": "b-eEcR2w06vT",
        "colab_type": "code",
        "colab": {
          "base_uri": "https://localhost:8080/",
          "height": 391
        },
        "outputId": "da62b402-624b-4eb4-f6ca-2d81fb66da0b"
      },
      "source": [
        "model.fit(X, y, batch_size=32, epochs=10, validation_split=0.1, callbacks=[tensorboard_cb])"
      ],
      "execution_count": 45,
      "outputs": [
        {
          "output_type": "stream",
          "text": [
            "Train on 22451 samples, validate on 2495 samples\n",
            "Epoch 1/10\n",
            "22451/22451 [==============================] - 9s 405us/sample - loss: 0.6026 - acc: 0.6643 - val_loss: 0.5430 - val_acc: 0.7279\n",
            "Epoch 2/10\n",
            "22451/22451 [==============================] - 8s 377us/sample - loss: 0.5041 - acc: 0.7561 - val_loss: 0.5071 - val_acc: 0.7535\n",
            "Epoch 3/10\n",
            "22451/22451 [==============================] - 9s 379us/sample - loss: 0.4587 - acc: 0.7850 - val_loss: 0.4946 - val_acc: 0.7611\n",
            "Epoch 4/10\n",
            "22451/22451 [==============================] - 9s 384us/sample - loss: 0.4222 - acc: 0.8040 - val_loss: 0.4742 - val_acc: 0.7784\n",
            "Epoch 5/10\n",
            "22451/22451 [==============================] - 8s 375us/sample - loss: 0.3892 - acc: 0.8209 - val_loss: 0.4455 - val_acc: 0.7956\n",
            "Epoch 6/10\n",
            "22451/22451 [==============================] - 8s 376us/sample - loss: 0.3564 - acc: 0.8385 - val_loss: 0.4435 - val_acc: 0.7964\n",
            "Epoch 7/10\n",
            "22451/22451 [==============================] - 8s 373us/sample - loss: 0.3200 - acc: 0.8576 - val_loss: 0.4603 - val_acc: 0.7952\n",
            "Epoch 8/10\n",
            "22451/22451 [==============================] - 8s 373us/sample - loss: 0.2836 - acc: 0.8747 - val_loss: 0.4811 - val_acc: 0.7936\n",
            "Epoch 9/10\n",
            "22451/22451 [==============================] - 8s 373us/sample - loss: 0.2407 - acc: 0.8980 - val_loss: 0.5435 - val_acc: 0.7968\n",
            "Epoch 10/10\n",
            "22451/22451 [==============================] - 8s 373us/sample - loss: 0.1988 - acc: 0.9185 - val_loss: 0.5501 - val_acc: 0.7976\n"
          ],
          "name": "stdout"
        },
        {
          "output_type": "execute_result",
          "data": {
            "text/plain": [
              "<tensorflow.python.keras.callbacks.History at 0x7fe5753295c0>"
            ]
          },
          "metadata": {
            "tags": []
          },
          "execution_count": 45
        }
      ]
    },
    {
      "cell_type": "markdown",
      "metadata": {
        "id": "rjOXh04DG5bY",
        "colab_type": "text"
      },
      "source": [
        "## Model Analysis"
      ]
    },
    {
      "cell_type": "code",
      "metadata": {
        "id": "NkysSIoRZz5o",
        "colab_type": "code",
        "colab": {}
      },
      "source": [
        ""
      ],
      "execution_count": 0,
      "outputs": []
    }
  ]
}